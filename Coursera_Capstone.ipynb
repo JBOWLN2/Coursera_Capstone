{
  "nbformat": 4,
  "nbformat_minor": 0,
  "metadata": {
    "colab": {
      "name": "Coursera_Capstone.ipynb",
      "provenance": [],
      "include_colab_link": true
    },
    "kernelspec": {
      "name": "python3",
      "display_name": "Python 3"
    }
  },
  "cells": [
    {
      "cell_type": "markdown",
      "metadata": {
        "id": "view-in-github",
        "colab_type": "text"
      },
      "source": [
        "<a href=\"https://colab.research.google.com/github/JBOWLN2/Coursera_Capstone/blob/master/Coursera_Capstone.ipynb\" target=\"_parent\"><img src=\"https://colab.research.google.com/assets/colab-badge.svg\" alt=\"Open In Colab\"/></a>"
      ]
    },
    {
      "cell_type": "markdown",
      "metadata": {
        "id": "z7xca9zUk_qw",
        "colab_type": "text"
      },
      "source": [
        "# Best cities for intellectual life"
      ]
    },
    {
      "cell_type": "markdown",
      "metadata": {
        "id": "eCUZ_pO_lbLa",
        "colab_type": "text"
      },
      "source": [
        "This project aims to compare 5 major cities in different US regions in terms of the number and quality of universities in the city. We will use four square data to identify the universities within the greater metropolitan areas of these cities. Then we will use rating or ranking data for these universities and produce results that allow us to compare the number and percieved quality of unversities in each area. This data would be useful for academics and researchers on the job market, professionals looking for a new job who also teach as adjuncts when look, those in other careers in higher education, people interested in living near major universities, the curious, and finally for further research (e.g. if someone wants to compare number of universities to some other demographics like health, income, education, etc)."
      ]
    },
    {
      "cell_type": "markdown",
      "metadata": {
        "id": "u4dmMJZ5oFLu",
        "colab_type": "text"
      },
      "source": [
        "###Import libraries and modules"
      ]
    },
    {
      "cell_type": "code",
      "metadata": {
        "id": "SL8dPbcZoKov",
        "colab_type": "code",
        "colab": {
          "base_uri": "https://localhost:8080/",
          "height": 255
        },
        "outputId": "da09c3db-0134-4ebd-c955-429985fb74e1"
      },
      "source": [
        "import numpy as np\n",
        "from numpy import mean\n",
        "import pandas as pd\n",
        "pd.set_option('display.max_columns', None)\n",
        "pd.set_option('display.max_rows', None)\n",
        "import json \n",
        "import random\n",
        "# tranforming json file into a pandas dataframe library\n",
        "from pandas.io.json import json_normalize\n",
        "\n",
        "!pip install geopy\n",
        "import geopy as gp\n",
        "from geopy.geocoders import Nominatim\n",
        "import requests \n",
        "from pandas.io.json import json_normalize \n",
        "import matplotlib.cm as cm\n",
        "import matplotlib.colors as colors\n",
        "# import k-means from clustering stage\n",
        "from sklearn.cluster import KMeans\n",
        "from sklearn.cluster import KMeans, SpectralClustering\n",
        "from sklearn.preprocessing import StandardScaler\n",
        "from sklearn.metrics import silhouette_samples, silhouette_score\n",
        "from bs4 import BeautifulSoup\n",
        "import xml\n",
        "!pip install folium\n",
        "import folium\n",
        "# Evaluation and plotting\n",
        "import matplotlib.pyplot as plt\n",
        "import seaborn as sns\n",
        "\n",
        "print('Success!')"
      ],
      "execution_count": 1,
      "outputs": [
        {
          "output_type": "stream",
          "text": [
            "Requirement already satisfied: geopy in /usr/local/lib/python3.6/dist-packages (1.17.0)\n",
            "Requirement already satisfied: geographiclib<2,>=1.49 in /usr/local/lib/python3.6/dist-packages (from geopy) (1.50)\n",
            "Requirement already satisfied: folium in /usr/local/lib/python3.6/dist-packages (0.8.3)\n",
            "Requirement already satisfied: branca>=0.3.0 in /usr/local/lib/python3.6/dist-packages (from folium) (0.3.1)\n",
            "Requirement already satisfied: jinja2 in /usr/local/lib/python3.6/dist-packages (from folium) (2.10.3)\n",
            "Requirement already satisfied: numpy in /usr/local/lib/python3.6/dist-packages (from folium) (1.16.5)\n",
            "Requirement already satisfied: requests in /usr/local/lib/python3.6/dist-packages (from folium) (2.21.0)\n",
            "Requirement already satisfied: six in /usr/local/lib/python3.6/dist-packages (from folium) (1.12.0)\n",
            "Requirement already satisfied: MarkupSafe>=0.23 in /usr/local/lib/python3.6/dist-packages (from jinja2->folium) (1.1.1)\n",
            "Requirement already satisfied: chardet<3.1.0,>=3.0.2 in /usr/local/lib/python3.6/dist-packages (from requests->folium) (3.0.4)\n",
            "Requirement already satisfied: idna<2.9,>=2.5 in /usr/local/lib/python3.6/dist-packages (from requests->folium) (2.8)\n",
            "Requirement already satisfied: certifi>=2017.4.17 in /usr/local/lib/python3.6/dist-packages (from requests->folium) (2019.9.11)\n",
            "Requirement already satisfied: urllib3<1.25,>=1.21.1 in /usr/local/lib/python3.6/dist-packages (from requests->folium) (1.24.3)\n",
            "Success!\n"
          ],
          "name": "stdout"
        }
      ]
    },
    {
      "cell_type": "markdown",
      "metadata": {
        "id": "dH7CTIxUpALn",
        "colab_type": "text"
      },
      "source": [
        "### Container for reusable code"
      ]
    },
    {
      "cell_type": "code",
      "metadata": {
        "id": "-BEY1ukdovl0",
        "colab_type": "code",
        "colab": {}
      },
      "source": [
        "  ### Webscraping with BeautifulSoup ###\n",
        "# url = requests.get('https://en.wikipedia.org/wiki/List_of_postal_codes_of_Canada:_M').text\n",
        "# soup = BeautifulSoup(url,'lxml')\n",
        "#table_post = soup.find('table')\n",
        "#fields = table_post.find_all('td')\n",
        "\n",
        "#postcode = []\n",
        "#borough = []\n",
        "#neighbourhood = []\n",
        "\n",
        "#for i in range(0, len(fields), 3):\n",
        "    #postcode.append(fields[i].text.strip())\n",
        "    #borough.append(fields[i+1].text.strip())\n",
        "    #neighbourhood.append(fields[i+2].text.strip())\n",
        "        \n",
        "#df = pd.DataFrame(data=[postcode, borough, neighbourhood]).transpose()\n",
        "#df.columns = ['Postcode', 'Borough', 'Neighbourhood']\n",
        "#df.head()\n",
        "\n",
        "\n",
        "  ### Foursquare info and API variants ###\n",
        "CLIENT_ID = 'SKGX1UYHU5H3P1UZVCCNVJRHXHY3HGIXNPK05SR2SE52E5OG' # your Foursquare ID\n",
        "CLIENT_SECRET = '2QAKHUAVSYF5F1UPNE3XCCFUIFDH33FEZ3E13DODSTANJBYG' # your Foursquare Secret\n",
        "VERSION = '20191011'\n",
        "LIMIT = 30\n",
        "print('Your credentails:')\n",
        "print('CLIENT_ID: ' + CLIENT_ID)\n",
        "print('CLIENT_SECRET:' + CLIENT_SECRET)\n",
        "\n",
        "#Search for a specific venue category¶\n",
        "#https://api.foursquare.com/v2/venues/search?client_id=CLIENT_ID&client_secret=CLIENT_SECRET&ll=LATITUDE,LONGITUDE&v=VERSION&query=QUERY&radius=R:\n",
        "\n",
        "#url = 'https://api.foursquare.com/v2/venues/search?client_id=SKGX1UYHU5H3P1UZVCCNVJRHXHY3HGIXNPK05SR2SE52E5OG&client_secret=2QAKHUAVSYF5F1UPNE3XCCFUIFDH33FEZ3E13DODSTANJBYG&ll=40.7149555,-74.0153365&v=20180604&query=italian&radius=500&limit=30'.format(CLIENT_ID, CLIENT_SECRET, latitude, longitude, VERSION, search_query, radius, LIMIT)\n",
        "#url\n",
        "\n",
        "\n",
        "  ### Using GeoLocator Examples ###\n",
        "#address = '102 North End Ave, New York, NY'\n",
        "#geolocator = Nominatim(user_agent=\"foursquare_agent\")\n",
        "#location = geolocator.geocode(address)\n",
        "#latitude = location.latitude\n",
        "#longitude = location.longitude\n",
        "#print(latitude, longitude)"
      ],
      "execution_count": 0,
      "outputs": []
    },
    {
      "cell_type": "code",
      "metadata": {
        "id": "fyUj3k71pHqM",
        "colab_type": "code",
        "colab": {}
      },
      "source": [
        ""
      ],
      "execution_count": 0,
      "outputs": []
    }
  ]
}