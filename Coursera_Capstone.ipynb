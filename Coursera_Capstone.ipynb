{
  "nbformat": 4,
  "nbformat_minor": 0,
  "metadata": {
    "colab": {
      "name": "Coursera_Capstone.ipynb",
      "provenance": [],
      "include_colab_link": true
    },
    "kernelspec": {
      "name": "python3",
      "display_name": "Python 3"
    }
  },
  "cells": [
    {
      "cell_type": "markdown",
      "metadata": {
        "id": "view-in-github",
        "colab_type": "text"
      },
      "source": [
        "<a href=\"https://colab.research.google.com/github/JBOWLN2/Coursera_Capstone/blob/master/Coursera_Capstone.ipynb\" target=\"_parent\"><img src=\"https://colab.research.google.com/assets/colab-badge.svg\" alt=\"Open In Colab\"/></a>"
      ]
    },
    {
      "cell_type": "markdown",
      "metadata": {
        "id": "z7xca9zUk_qw",
        "colab_type": "text"
      },
      "source": [
        "# Best cities for intellectual life"
      ]
    },
    {
      "cell_type": "markdown",
      "metadata": {
        "id": "eCUZ_pO_lbLa",
        "colab_type": "text"
      },
      "source": [
        "This project aims to compare 5 major cities in different US regions in terms of the number and quality of universities in the city. We will use four square data to identify the universities within the greater metropolitan areas of these cities. Then we will use rating or ranking data for these universities and produce results that allow us to compare the number and percieved quality of unversities in each area. This data would be useful for academics and researchers on the job market, professionals looking for a new job who also teach as adjuncts when look, those in other careers in higher education, people interested in living near major universities, the curious, and finally for further research (e.g. if someone wants to compare number of universities to some other demographics like health, income, education, etc)."
      ]
    },
    {
      "cell_type": "markdown",
      "metadata": {
        "id": "u4dmMJZ5oFLu",
        "colab_type": "text"
      },
      "source": [
        "###Import libraries and modules"
      ]
    },
    {
      "cell_type": "code",
      "metadata": {
        "id": "SL8dPbcZoKov",
        "colab_type": "code",
        "colab": {
          "base_uri": "https://localhost:8080/",
          "height": 255
        },
        "outputId": "85134e02-2665-4bab-eb2b-c0b145aa5155"
      },
      "source": [
        "import numpy as np\n",
        "from numpy import mean\n",
        "import pandas as pd\n",
        "pd.set_option('display.max_columns', None)\n",
        "pd.set_option('display.max_rows', None)\n",
        "import json \n",
        "import random\n",
        "# tranforming json file into a pandas dataframe library\n",
        "from pandas.io.json import json_normalize\n",
        "\n",
        "!pip install geopy\n",
        "import geopy as gp\n",
        "from geopy.geocoders import Nominatim\n",
        "import requests \n",
        "from pandas.io.json import json_normalize \n",
        "import matplotlib.cm as cm\n",
        "import matplotlib.colors as colors\n",
        "# import k-means from clustering stage\n",
        "from sklearn.cluster import KMeans\n",
        "from sklearn.cluster import KMeans, SpectralClustering\n",
        "from sklearn.preprocessing import StandardScaler\n",
        "from sklearn.metrics import silhouette_samples, silhouette_score\n",
        "from bs4 import BeautifulSoup\n",
        "import xml\n",
        "!pip install folium\n",
        "import folium\n",
        "# Evaluation and plotting\n",
        "import matplotlib.pyplot as plt\n",
        "import seaborn as sns\n",
        "\n",
        "print('Success!')"
      ],
      "execution_count": 1,
      "outputs": [
        {
          "output_type": "stream",
          "text": [
            "Requirement already satisfied: geopy in /usr/local/lib/python3.6/dist-packages (1.17.0)\n",
            "Requirement already satisfied: geographiclib<2,>=1.49 in /usr/local/lib/python3.6/dist-packages (from geopy) (1.50)\n",
            "Requirement already satisfied: folium in /usr/local/lib/python3.6/dist-packages (0.8.3)\n",
            "Requirement already satisfied: jinja2 in /usr/local/lib/python3.6/dist-packages (from folium) (2.10.3)\n",
            "Requirement already satisfied: requests in /usr/local/lib/python3.6/dist-packages (from folium) (2.21.0)\n",
            "Requirement already satisfied: numpy in /usr/local/lib/python3.6/dist-packages (from folium) (1.16.5)\n",
            "Requirement already satisfied: branca>=0.3.0 in /usr/local/lib/python3.6/dist-packages (from folium) (0.3.1)\n",
            "Requirement already satisfied: six in /usr/local/lib/python3.6/dist-packages (from folium) (1.12.0)\n",
            "Requirement already satisfied: MarkupSafe>=0.23 in /usr/local/lib/python3.6/dist-packages (from jinja2->folium) (1.1.1)\n",
            "Requirement already satisfied: urllib3<1.25,>=1.21.1 in /usr/local/lib/python3.6/dist-packages (from requests->folium) (1.24.3)\n",
            "Requirement already satisfied: idna<2.9,>=2.5 in /usr/local/lib/python3.6/dist-packages (from requests->folium) (2.8)\n",
            "Requirement already satisfied: chardet<3.1.0,>=3.0.2 in /usr/local/lib/python3.6/dist-packages (from requests->folium) (3.0.4)\n",
            "Requirement already satisfied: certifi>=2017.4.17 in /usr/local/lib/python3.6/dist-packages (from requests->folium) (2019.9.11)\n",
            "Success!\n"
          ],
          "name": "stdout"
        }
      ]
    },
    {
      "cell_type": "markdown",
      "metadata": {
        "id": "dH7CTIxUpALn",
        "colab_type": "text"
      },
      "source": [
        "### Container for reusable code"
      ]
    },
    {
      "cell_type": "code",
      "metadata": {
        "id": "-BEY1ukdovl0",
        "colab_type": "code",
        "colab": {
          "base_uri": "https://localhost:8080/",
          "height": 68
        },
        "outputId": "77c9b0a7-a8aa-4952-a2b8-a1558fdab6c7"
      },
      "source": [
        "      ### Webscraping with BeautifulSoup ###\n",
        "# url = requests.get('https://en.wikipedia.org/wiki/List_of_postal_codes_of_Canada:_M').text\n",
        "# soup = BeautifulSoup(url,'lxml')\n",
        "#table_post = soup.find('table')\n",
        "#fields = table_post.find_all('td')\n",
        "\n",
        "#postcode = []\n",
        "#borough = []\n",
        "#neighbourhood = []\n",
        "\n",
        "#for i in range(0, len(fields), 3):\n",
        "    #postcode.append(fields[i].text.strip())\n",
        "    #borough.append(fields[i+1].text.strip())\n",
        "    #neighbourhood.append(fields[i+2].text.strip())\n",
        "        \n",
        "#df = pd.DataFrame(data=[postcode, borough, neighbourhood]).transpose()\n",
        "#df.columns = ['Postcode', 'Borough', 'Neighbourhood']\n",
        "#df.head()\n",
        "\n",
        "\n",
        "      ### Foursquare info and API variants ###\n",
        "CLIENT_ID = 'SKGX1UYHU5H3P1UZVCCNVJRHXHY3HGIXNPK05SR2SE52E5OG' # your Foursquare ID\n",
        "CLIENT_SECRET = '2QAKHUAVSYF5F1UPNE3XCCFUIFDH33FEZ3E13DODSTANJBYG' # your Foursquare Secret\n",
        "VERSION = '20191011'\n",
        "LIMIT = 30\n",
        "print('Your credentails:')\n",
        "print('CLIENT_ID: ' + CLIENT_ID)\n",
        "print('CLIENT_SECRET:' + CLIENT_SECRET)\n",
        "    #Search for a specific venue category¶\n",
        "# Example: https://api.foursquare.com/v2/venues/search?client_id=CLIENT_ID&client_secret=CLIENT_SECRET&ll=LATITUDE,LONGITUDE&v=VERSION&query=QUERY&radius=R:\n",
        "# With my credentials: url = 'https://api.foursquare.com/v2/venues/search?client_id=SKGX1UYHU5H3P1UZVCCNVJRHXHY3HGIXNPK05SR2SE52E5OG&client_secret=2QAKHUAVSYF5F1UPNE3XCCFUIFDH33FEZ3E13DODSTANJBYG&ll=40.7149555,-74.0153365&v=20180604&query=italian&radius=500&limit=30'.format(CLIENT_ID, CLIENT_SECRET, latitude, longitude, VERSION, search_query, radius, LIMIT)\n",
        "    #Explore a Given Venue\n",
        "# Examplehttps://api.foursquare.com/v2/venues/VENUE_ID?client_id=CLIENT_ID&client_secret=CLIENT_SECRET&v=VERSION\n",
        "#venue_id = '4fa862b3e4b0ebff2f749f06' # ID of Harry's Italian Pizza Bar\n",
        "#url = 'https://api.foursquare.com/v2/venues/4fa862b3e4b0ebff2f749f06?client_id=SKGX1UYHU5H3P1UZVCCNVJRHXHY3HGIXNPK05SR2SE52E5OG&client_secret=2QAKHUAVSYF5F1UPNE3XCCFUIFDH33FEZ3E13DODSTANJBYG&v=20180604'.format(venue_id, CLIENT_ID, CLIENT_SECRET, VERSION)\n",
        "    #Get the venue's tips¶\n",
        "#Example: https://api.foursquare.com/v2/venues/VENUE_ID/tips?client_id=CLIENT_ID&client_secret=CLIENT_SECRET&v=VERSION&limit=LIMIT\n",
        "#limit = 15 # set limit to be greater than or equal to the total number of tips\n",
        "#url = 'https://api.foursquare.com/v2/venues/3fd66200f964a520f4e41ee3/tips?client_id=SKGX1UYHU5H3P1UZVCCNVJRHXHY3HGIXNPK05SR2SE52E5OG&client_secret=2QAKHUAVSYF5F1UPNE3XCCFUIFDH33FEZ3E13DODSTANJBYG&v=20180604&limit=30'.format(venue_id, CLIENT_ID, CLIENT_SECRET, VERSION, limit)\n",
        "\n",
        "#results = requests.get(url).json()\n",
        "#results\n",
        "#url\n",
        "\n",
        "\n",
        "      ### Jsonify API data and place in pandas DF ###\n",
        "#results = requests.get(url).json()\n",
        "#results\n",
        "# assign relevant part of JSON to venues\n",
        "#venues = results['response']['venues']\n",
        "# tranform venues into a dataframe\n",
        "#dataframe = json_normalize(venues)\n",
        "#dataframe.head()\n",
        "\n",
        "      ### keep only columns that include venue name, and anything that is associated with location ###\n",
        "##filtered_columns = ['name', 'categories'] + [col for col in dataframe.columns if col.startswith('location.')] + ['id']\n",
        "#dataframe_filtered = dataframe.loc[:, filtered_columns]\n",
        "# function that extracts the category of the venue\n",
        "#def get_category_type(row):\n",
        "    #try:\n",
        "        #categories_list = row['categories']\n",
        "    #except:\n",
        "        #categories_list = row['venue.categories']\n",
        "        \n",
        "    #if len(categories_list) == 0:\n",
        "        #return None\n",
        "    #else:\n",
        "        #return categories_list[0]['name']\n",
        "# filter the category for each row\n",
        "#dataframe_filtered['categories'] = dataframe_filtered.apply(get_category_type, axis=1)\n",
        "# clean column names by keeping only last term\n",
        "#dataframe_filtered.columns = [column.split('.')[-1] for column in dataframe_filtered.columns]\n",
        "#dataframe_filtered\n",
        "#dataframe_filtered.name\n",
        "\n",
        "\n",
        "      ### add a red circle marker to represent the Conrad Hotel###\n",
        "#folium.features.CircleMarker(\n",
        "    #[latitude, longitude],\n",
        "    #radius=10,\n",
        "    #color='red',\n",
        "    #popup='Conrad Hotel',\n",
        "    #fill = True,\n",
        "    #fill_color = 'red',\n",
        "    #fill_opacity = 0.6\n",
        "#).add_to(venues_map)\n",
        "# add the Italian restaurants as blue circle markers\n",
        "#for lat, lng, label in zip(dataframe_filtered.lat, dataframe_filtered.lng, dataframe_filtered.categories):\n",
        "    #folium.features.CircleMarker(\n",
        "        #[lat, lng],\n",
        "        #radius=5,\n",
        "        #color='blue',\n",
        "        #popup=label,\n",
        "        #fill = True,\n",
        "        #fill_color='blue',\n",
        "        #fill_opacity=0.6\n",
        "    #).add_to(venues_map)\n",
        "\n",
        "\n",
        "      ### Using GeoLocator Examples ###\n",
        "#address = '102 North End Ave, New York, NY'\n",
        "#geolocator = Nominatim(user_agent=\"foursquare_agent\")\n",
        "#location = geolocator.geocode(address)\n",
        "#latitude = location.latitude\n",
        "#longitude = location.longitude\n",
        "#print(latitude, longitude)"
      ],
      "execution_count": 2,
      "outputs": [
        {
          "output_type": "stream",
          "text": [
            "Your credentails:\n",
            "CLIENT_ID: SKGX1UYHU5H3P1UZVCCNVJRHXHY3HGIXNPK05SR2SE52E5OG\n",
            "CLIENT_SECRET:2QAKHUAVSYF5F1UPNE3XCCFUIFDH33FEZ3E13DODSTANJBYG\n"
          ],
          "name": "stdout"
        }
      ]
    },
    {
      "cell_type": "code",
      "metadata": {
        "id": "fyUj3k71pHqM",
        "colab_type": "code",
        "colab": {}
      },
      "source": [
        ""
      ],
      "execution_count": 0,
      "outputs": []
    }
  ]
}